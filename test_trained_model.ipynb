{
 "cells": [
  {
   "cell_type": "code",
   "execution_count": 1,
   "metadata": {},
   "outputs": [],
   "source": [
    "import requests\n",
    "from PIL import Image\n",
    "from transformers import AutoTokenizer, ViTImageProcessor, VisionEncoderDecoderModel\n",
    "from transformers import pipeline"
   ]
  },
  {
   "cell_type": "code",
   "execution_count": 2,
   "metadata": {},
   "outputs": [
    {
     "name": "stderr",
     "output_type": "stream",
     "text": [
      "You are using the legacy behaviour of the <class 'transformers.models.t5.tokenization_t5.T5Tokenizer'>. This means that tokens that come after special tokens will not be properly handled. We recommend you to read the related pull request available at https://github.com/huggingface/transformers/pull/24565\n"
     ]
    }
   ],
   "source": [
    "# 各種モデルの読み込み\n",
    "model = VisionEncoderDecoderModel.from_pretrained(\"./models/vit-gpt2-japanese-image-captioning_stair-captions/checkpoint-82500/\")\n",
    "tokenizer = AutoTokenizer.from_pretrained(\"rinna/japanese-gpt2-medium\", use_fast=False)\n",
    "tokenizer.do_lower_case = True  # due to some bug of tokenizer config loading\n",
    "image_processor = ViTImageProcessor.from_pretrained(\"google/vit-base-patch16-224-in21k\")"
   ]
  },
  {
   "cell_type": "code",
   "execution_count": 7,
   "metadata": {},
   "outputs": [
    {
     "name": "stdout",
     "output_type": "stream",
     "text": [
      "ピンク色のクッションの上に2匹の猫がいる\n",
      "ピンクのベッドの上に猫が2匹寝ている\n",
      "ピンクのクッションの上に猫が二匹いる\n",
      "猫が二匹寄り添って寝転んでいる\n",
      "ピンクのクッションの上に2匹の猫がいる\n"
     ]
    }
   ],
   "source": [
    "# let's perform inference on an image\n",
    "url = \"http://images.cocodataset.org/val2017/000000039769.jpg\"\n",
    "\n",
    "image = Image.open(requests.get(url, stream=True).raw)\n",
    "pixel_values = image_processor(image, return_tensors=\"pt\").pixel_values\n",
    "\n",
    "# autoregressively generate caption (uses greedy decoding by default)\n",
    "generated_ids = model.generate(pixel_values,\n",
    "                               max_new_tokens=30, \n",
    "                               num_beams=5,\n",
    "                               early_stopping=True,\n",
    "                               do_sample=True,\n",
    "                               temperature=1.2,\n",
    "                               top_k=50,\n",
    "                               top_p=0.95, \n",
    "                               no_repeat_ngram_size=3,\n",
    "                               num_return_sequences=5)\n",
    "generated_texts = tokenizer.batch_decode(generated_ids, skip_special_tokens=True)\n",
    "for text in generated_texts:\n",
    "    print(text)"
   ]
  },
  {
   "cell_type": "code",
   "execution_count": 4,
   "metadata": {},
   "outputs": [],
   "source": [
    "model.save_pretrained(\"./models/vit-gpt2-japanese-image-captioning_stair-captions-result/\")"
   ]
  },
  {
   "cell_type": "code",
   "execution_count": 5,
   "metadata": {},
   "outputs": [],
   "source": [
    "pipe = pipeline(\"image-to-text\", model=model, tokenizer=tokenizer, feature_extractor=image_processor)"
   ]
  },
  {
   "cell_type": "code",
   "execution_count": 11,
   "metadata": {},
   "outputs": [],
   "source": [
    "pipe.save_pretrained(\"./models/vit-gpt2-japanese-image-captioning_stair-captions-result-pipeline/\")"
   ]
  }
 ],
 "metadata": {
  "kernelspec": {
   "display_name": "py39",
   "language": "python",
   "name": "python3"
  },
  "language_info": {
   "codemirror_mode": {
    "name": "ipython",
    "version": 3
   },
   "file_extension": ".py",
   "mimetype": "text/x-python",
   "name": "python",
   "nbconvert_exporter": "python",
   "pygments_lexer": "ipython3",
   "version": "3.9.17"
  },
  "orig_nbformat": 4
 },
 "nbformat": 4,
 "nbformat_minor": 2
}
