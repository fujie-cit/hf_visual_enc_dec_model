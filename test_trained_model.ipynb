{
 "cells": [
  {
   "cell_type": "code",
   "execution_count": 1,
   "metadata": {},
   "outputs": [],
   "source": [
    "import requests\n",
    "from PIL import Image\n",
    "from transformers import AutoTokenizer, ViTImageProcessor, VisionEncoderDecoderModel\n",
    "from transformers import pipeline"
   ]
  },
  {
   "cell_type": "code",
   "execution_count": 2,
   "metadata": {},
   "outputs": [
    {
     "name": "stderr",
     "output_type": "stream",
     "text": [
      "Some weights of VisionEncoderDecoderModel were not initialized from the model checkpoint at ./models/vit-gpt2-japanese-image-captioning_stair-captions/checkpoint-613500/ and are newly initialized: ['decoder.transformer.h.23.attn.masked_bias', 'decoder.transformer.h.10.attn.bias', 'decoder.transformer.h.11.attn.bias', 'decoder.transformer.h.16.attn.masked_bias', 'decoder.transformer.h.7.attn.masked_bias', 'decoder.transformer.h.13.attn.masked_bias', 'decoder.transformer.h.11.crossattention.masked_bias', 'decoder.transformer.h.4.crossattention.bias', 'decoder.transformer.h.1.crossattention.bias', 'decoder.transformer.h.3.crossattention.masked_bias', 'decoder.transformer.h.5.crossattention.bias', 'decoder.transformer.h.21.attn.masked_bias', 'decoder.transformer.h.14.crossattention.masked_bias', 'decoder.transformer.h.5.crossattention.masked_bias', 'decoder.transformer.h.5.attn.bias', 'decoder.transformer.h.4.crossattention.masked_bias', 'decoder.transformer.h.16.attn.bias', 'decoder.transformer.h.19.attn.masked_bias', 'decoder.transformer.h.21.crossattention.bias', 'decoder.transformer.h.19.attn.bias', 'decoder.transformer.h.9.attn.masked_bias', 'decoder.transformer.h.13.crossattention.bias', 'decoder.transformer.h.11.crossattention.bias', 'decoder.transformer.h.8.attn.bias', 'decoder.transformer.h.15.attn.masked_bias', 'decoder.transformer.h.18.crossattention.masked_bias', 'decoder.transformer.h.0.crossattention.bias', 'decoder.transformer.h.1.crossattention.masked_bias', 'decoder.transformer.h.8.crossattention.bias', 'decoder.transformer.h.18.attn.bias', 'decoder.transformer.h.0.attn.masked_bias', 'decoder.transformer.h.8.attn.masked_bias', 'decoder.transformer.h.18.crossattention.bias', 'decoder.transformer.h.14.attn.bias', 'decoder.transformer.h.22.crossattention.bias', 'decoder.transformer.h.10.crossattention.masked_bias', 'decoder.transformer.h.20.attn.masked_bias', 'decoder.transformer.h.12.attn.masked_bias', 'decoder.transformer.h.7.attn.bias', 'decoder.transformer.h.22.attn.masked_bias', 'decoder.transformer.h.12.crossattention.bias', 'decoder.transformer.h.6.attn.masked_bias', 'decoder.transformer.h.2.crossattention.masked_bias', 'decoder.transformer.h.9.crossattention.bias', 'decoder.transformer.h.23.attn.bias', 'decoder.transformer.h.15.crossattention.masked_bias', 'decoder.transformer.h.7.crossattention.masked_bias', 'decoder.transformer.h.15.attn.bias', 'decoder.transformer.h.17.crossattention.masked_bias', 'decoder.transformer.h.8.crossattention.masked_bias', 'decoder.transformer.h.0.attn.bias', 'decoder.transformer.h.2.attn.masked_bias', 'decoder.transformer.h.10.attn.masked_bias', 'decoder.transformer.h.23.crossattention.masked_bias', 'decoder.transformer.h.1.attn.masked_bias', 'decoder.transformer.h.9.crossattention.masked_bias', 'decoder.transformer.h.9.attn.bias', 'decoder.transformer.h.11.attn.masked_bias', 'decoder.transformer.h.7.crossattention.bias', 'decoder.transformer.h.21.attn.bias', 'decoder.transformer.h.17.attn.bias', 'decoder.transformer.h.12.attn.bias', 'decoder.transformer.h.5.attn.masked_bias', 'decoder.transformer.h.22.attn.bias', 'decoder.transformer.h.17.attn.masked_bias', 'decoder.transformer.h.3.attn.masked_bias', 'decoder.transformer.h.2.attn.bias', 'decoder.transformer.h.12.crossattention.masked_bias', 'decoder.transformer.h.20.crossattention.bias', 'decoder.transformer.h.14.attn.masked_bias', 'decoder.transformer.h.17.crossattention.bias', 'decoder.transformer.h.6.attn.bias', 'decoder.transformer.h.18.attn.masked_bias', 'decoder.transformer.h.19.crossattention.masked_bias', 'decoder.transformer.h.20.crossattention.masked_bias', 'decoder.transformer.h.22.crossattention.masked_bias', 'decoder.transformer.h.6.crossattention.bias', 'decoder.transformer.h.1.attn.bias', 'decoder.transformer.h.4.attn.masked_bias', 'decoder.transformer.h.3.crossattention.bias', 'decoder.transformer.h.10.crossattention.bias', 'decoder.transformer.h.13.attn.bias', 'decoder.transformer.h.0.crossattention.masked_bias', 'decoder.transformer.h.20.attn.bias', 'decoder.transformer.h.14.crossattention.bias', 'decoder.transformer.h.16.crossattention.bias', 'decoder.transformer.h.16.crossattention.masked_bias', 'decoder.transformer.h.13.crossattention.masked_bias', 'decoder.transformer.h.6.crossattention.masked_bias', 'decoder.transformer.h.23.crossattention.bias', 'decoder.transformer.h.15.crossattention.bias', 'decoder.transformer.h.21.crossattention.masked_bias', 'decoder.transformer.h.4.attn.bias', 'decoder.transformer.h.3.attn.bias', 'decoder.transformer.h.19.crossattention.bias', 'decoder.transformer.h.2.crossattention.bias']\n",
      "You should probably TRAIN this model on a down-stream task to be able to use it for predictions and inference.\n"
     ]
    }
   ],
   "source": [
    "# 各種モデルの読み込み\n",
    "# model = VisionEncoderDecoderModel.from_pretrained(\"./models/vit-gpt2-japanese-image-captioning_stair-captions/checkpoint-613500/\")\n",
    "model = VisionEncoderDecoderModel.from_pretrained(\"./models/vit-gpt2-japanese-image-captioning_stair-captions-result\")\n",
    "tokenizer = AutoTokenizer.from_pretrained(\"rinna/japanese-gpt2-medium\", use_fast=False)\n",
    "tokenizer.do_lower_case = True  # due to some bug of tokenizer config loading\n",
    "image_processor = ViTImageProcessor.from_pretrained(\"google/vit-base-patch16-224-in21k\")"
   ]
  },
  {
   "cell_type": "code",
   "execution_count": 3,
   "metadata": {},
   "outputs": [
    {
     "name": "stderr",
     "output_type": "stream",
     "text": [
      "/home/fujie/.conda/envs/py39/lib/python3.9/site-packages/transformers/generation/utils.py:1219: UserWarning: You have modified the pretrained model configuration to control generation. This is a deprecated strategy to control generation and will be removed soon, in a future version. Please use a generation configuration file (see https://huggingface.co/docs/transformers/main_classes/text_generation)\n",
      "  warnings.warn(\n"
     ]
    },
    {
     "name": "stdout",
     "output_type": "stream",
     "text": [
      "ピンクのクッションの上で二匹の猫がじゃれあっている\n",
      "ピンクのクッションの上で二匹の猫がじゃれている\n",
      "ピンクの布の上に二匹の猫が寝ている\n",
      "ピンクのクッションの上で二匹の猫がじゃれている\n",
      "ピンクのクッションの上で2匹の猫がじゃれている\n"
     ]
    }
   ],
   "source": [
    "# let's perform inference on an image\n",
    "url = \"http://images.cocodataset.org/val2017/000000039769.jpg\"\n",
    "\n",
    "image = Image.open(requests.get(url, stream=True).raw)\n",
    "pixel_values = image_processor(image, return_tensors=\"pt\").pixel_values\n",
    "\n",
    "# autoregressively generate caption (uses greedy decoding by default)\n",
    "generated_ids = model.generate(pixel_values,\n",
    "                               max_new_tokens=30, \n",
    "                               num_beams=5,\n",
    "                               early_stopping=True,\n",
    "                               do_sample=True,\n",
    "                               temperature=1.2,\n",
    "                               top_k=50,\n",
    "                               top_p=0.95, \n",
    "                               no_repeat_ngram_size=3,\n",
    "                               num_return_sequences=5)\n",
    "generated_texts = tokenizer.batch_decode(generated_ids, skip_special_tokens=True)\n",
    "for text in generated_texts:\n",
    "    print(text)"
   ]
  },
  {
   "cell_type": "code",
   "execution_count": 4,
   "metadata": {},
   "outputs": [],
   "source": [
    "model.save_pretrained(\"./models/vit-gpt2-japanese-image-captioning_stair-captions-result/\")"
   ]
  },
  {
   "cell_type": "code",
   "execution_count": 5,
   "metadata": {},
   "outputs": [],
   "source": [
    "pl = pipeline(\"image-to-text\",\n",
    "             model=model,\n",
    "             tokenizer=tokenizer,\n",
    "             feature_extractor=image_processor,)"
   ]
  },
  {
   "cell_type": "code",
   "execution_count": 6,
   "metadata": {},
   "outputs": [
    {
     "name": "stderr",
     "output_type": "stream",
     "text": [
      "/home/fujie/.conda/envs/py39/lib/python3.9/site-packages/transformers/generation/utils.py:1313: UserWarning: Using `max_length`'s default (20) to control the generation length. This behaviour is deprecated and will be removed from the config in v5 of Transformers -- we recommend using `max_new_tokens` to control the maximum length of the generation.\n",
      "  warnings.warn(\n"
     ]
    },
    {
     "data": {
      "text/plain": [
       "[{'generated_text': 'ピンクの布の上に二匹の猫がいる'}]"
      ]
     },
     "execution_count": 6,
     "metadata": {},
     "output_type": "execute_result"
    }
   ],
   "source": [
    "pl(url)"
   ]
  },
  {
   "cell_type": "code",
   "execution_count": 7,
   "metadata": {},
   "outputs": [
    {
     "data": {
      "text/plain": [
       "[{'generated_text': 'たくさんの人が机に向かって作業をしている'}]"
      ]
     },
     "execution_count": 7,
     "metadata": {},
     "output_type": "execute_result"
    }
   ],
   "source": [
    "pl(\"./photos/006.jpg\")"
   ]
  }
 ],
 "metadata": {
  "kernelspec": {
   "display_name": "py39",
   "language": "python",
   "name": "python3"
  },
  "language_info": {
   "codemirror_mode": {
    "name": "ipython",
    "version": 3
   },
   "file_extension": ".py",
   "mimetype": "text/x-python",
   "name": "python",
   "nbconvert_exporter": "python",
   "pygments_lexer": "ipython3",
   "version": "3.9.16"
  },
  "orig_nbformat": 4
 },
 "nbformat": 4,
 "nbformat_minor": 2
}
