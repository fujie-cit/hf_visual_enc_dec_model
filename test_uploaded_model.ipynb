{
 "cells": [
  {
   "cell_type": "code",
   "execution_count": 1,
   "metadata": {},
   "outputs": [],
   "source": [
    "import requests\n",
    "from PIL import Image\n",
    "from transformers import AutoTokenizer, ViTImageProcessor, VisionEncoderDecoderModel\n",
    "from transformers import pipeline\n"
   ]
  },
  {
   "cell_type": "code",
   "execution_count": 3,
   "metadata": {},
   "outputs": [],
   "source": [
    "# 各種モデルの読み込み\n",
    "# model = VisionEncoderDecoderModel.from_pretrained(\"./models/vit-gpt2-japanese-image-captioning_stair-captions/checkpoint-613500/\")\n",
    "# model = VisionEncoderDecoderModel.from_pretrained(\"./models/vit-gpt2-japanese-image-captioning_stair-captions-result\")\n",
    "model = VisionEncoderDecoderModel.from_pretrained(\"fujie/fujie_vit-gpt2-japanese-image-captioning_stair-captions-result\")\n",
    "tokenizer = AutoTokenizer.from_pretrained(\"rinna/japanese-gpt2-medium\", use_fast=False)\n",
    "tokenizer.do_lower_case = True  # due to some bug of tokenizer config loading\n",
    "image_processor = ViTImageProcessor.from_pretrained(\"google/vit-base-patch16-224-in21k\")"
   ]
  },
  {
   "cell_type": "code",
   "execution_count": 4,
   "metadata": {},
   "outputs": [
    {
     "name": "stdout",
     "output_type": "stream",
     "text": [
      "ピンクの布の上に二匹の猫がいる\n",
      "ピンクの布の上に二匹の猫が寝ている\n",
      "2匹の猫がピンクのクッションの上でじゃれている\n",
      "2匹の猫がピンクのクッションで遊んでいる\n",
      "ピンクの布の上に二匹の猫が寝転んでいる\n"
     ]
    }
   ],
   "source": [
    "# let's perform inference on an image\n",
    "url = \"http://images.cocodataset.org/val2017/000000039769.jpg\"\n",
    "\n",
    "image = Image.open(requests.get(url, stream=True).raw)\n",
    "pixel_values = image_processor(image, return_tensors=\"pt\").pixel_values\n",
    "\n",
    "# autoregressively generate caption (uses greedy decoding by default)\n",
    "generated_ids = model.generate(pixel_values,\n",
    "                               max_new_tokens=30, \n",
    "                               num_beams=5,\n",
    "                               early_stopping=True,\n",
    "                               do_sample=True,\n",
    "                               temperature=1.2,\n",
    "                               top_k=50,\n",
    "                               top_p=0.95, \n",
    "                               no_repeat_ngram_size=3,\n",
    "                               num_return_sequences=5)\n",
    "generated_texts = tokenizer.batch_decode(generated_ids, skip_special_tokens=True)\n",
    "for text in generated_texts:\n",
    "    print(text)"
   ]
  },
  {
   "cell_type": "code",
   "execution_count": 5,
   "metadata": {},
   "outputs": [],
   "source": [
    "# model.save_pretrained(\"./models/vit-gpt2-japanese-image-captioning_stair-captions-result/\")"
   ]
  },
  {
   "cell_type": "code",
   "execution_count": 6,
   "metadata": {},
   "outputs": [],
   "source": [
    "pl = pipeline(\"image-to-text\",\n",
    "             model=model,\n",
    "             tokenizer=tokenizer,\n",
    "             feature_extractor=image_processor,)"
   ]
  },
  {
   "cell_type": "code",
   "execution_count": 7,
   "metadata": {},
   "outputs": [
    {
     "name": "stderr",
     "output_type": "stream",
     "text": [
      "/home/fujie/.conda/envs/py311/lib/python3.11/site-packages/transformers/generation/utils.py:1168: UserWarning: Using the model-agnostic default `max_length` (=20) to control the generation length. We recommend setting `max_new_tokens` to control the maximum length of the generation.\n",
      "  warnings.warn(\n"
     ]
    },
    {
     "data": {
      "text/plain": [
       "[{'generated_text': 'ピンクの布の上に二匹の猫がいる'}]"
      ]
     },
     "execution_count": 7,
     "metadata": {},
     "output_type": "execute_result"
    }
   ],
   "source": [
    "pl(url)"
   ]
  },
  {
   "cell_type": "code",
   "execution_count": 8,
   "metadata": {},
   "outputs": [],
   "source": [
    "pl.save_pretrained(\"./models/vit-gpt2-japanese-image-captioning_stair-captions-result-pipeline/\")"
   ]
  },
  {
   "cell_type": "code",
   "execution_count": 8,
   "metadata": {},
   "outputs": [],
   "source": [
    "# pl(\"./photos/006.jpg\")"
   ]
  },
  {
   "cell_type": "code",
   "execution_count": 9,
   "metadata": {},
   "outputs": [
    {
     "data": {
      "application/vnd.jupyter.widget-view+json": {
       "model_id": "18683fad0ee24dec808acb592ba2831c",
       "version_major": 2,
       "version_minor": 0
      },
      "text/plain": [
       "VBox(children=(HTML(value='<center> <img\\nsrc=https://huggingface.co/front/assets/huggingface_logo-noborder.sv…"
      ]
     },
     "metadata": {},
     "output_type": "display_data"
    }
   ],
   "source": [
    "# upload model\n",
    "from huggingface_hub import notebook_login\n",
    "notebook_login()"
   ]
  },
  {
   "cell_type": "code",
   "execution_count": 10,
   "metadata": {},
   "outputs": [
    {
     "data": {
      "application/vnd.jupyter.widget-view+json": {
       "model_id": "3a2ee61e904d40fc8dfcc064e963abcf",
       "version_major": 2,
       "version_minor": 0
      },
      "text/plain": [
       "spiece.model:   0%|          | 0.00/806k [00:00<?, ?B/s]"
      ]
     },
     "metadata": {},
     "output_type": "display_data"
    },
    {
     "data": {
      "application/vnd.jupyter.widget-view+json": {
       "model_id": "22411090c9ec4090bf5750550aaf8bdd",
       "version_major": 2,
       "version_minor": 0
      },
      "text/plain": [
       "model.safetensors:   0%|          | 0.00/2.10G [00:00<?, ?B/s]"
      ]
     },
     "metadata": {},
     "output_type": "display_data"
    },
    {
     "data": {
      "application/vnd.jupyter.widget-view+json": {
       "model_id": "f5b0b246c45c452f8689a400af68872b",
       "version_major": 2,
       "version_minor": 0
      },
      "text/plain": [
       "Upload 2 LFS files:   0%|          | 0/2 [00:00<?, ?it/s]"
      ]
     },
     "metadata": {},
     "output_type": "display_data"
    },
    {
     "data": {
      "text/plain": [
       "CommitInfo(commit_url='https://huggingface.co/fujie/fujie_vit-gpt2-japanese-image-captioning_stair-captions-pipeline/commit/19d956790e3af61994482c31bde025e4fee6c22c', commit_message='Upload ImageToTextPipeline', commit_description='', oid='19d956790e3af61994482c31bde025e4fee6c22c', pr_url=None, pr_revision=None, pr_num=None)"
      ]
     },
     "execution_count": 10,
     "metadata": {},
     "output_type": "execute_result"
    }
   ],
   "source": [
    "pl.push_to_hub(\"fujie_vit-gpt2-japanese-image-captioning_stair-captions-pipeline\")"
   ]
  },
  {
   "cell_type": "code",
   "execution_count": null,
   "metadata": {},
   "outputs": [],
   "source": []
  }
 ],
 "metadata": {
  "kernelspec": {
   "display_name": "py39",
   "language": "python",
   "name": "python3"
  },
  "language_info": {
   "codemirror_mode": {
    "name": "ipython",
    "version": 3
   },
   "file_extension": ".py",
   "mimetype": "text/x-python",
   "name": "python",
   "nbconvert_exporter": "python",
   "pygments_lexer": "ipython3",
   "version": "3.11.9"
  },
  "orig_nbformat": 4
 },
 "nbformat": 4,
 "nbformat_minor": 2
}
