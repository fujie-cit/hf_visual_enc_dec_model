{
 "cells": [
  {
   "cell_type": "code",
   "execution_count": 1,
   "metadata": {},
   "outputs": [],
   "source": [
    "import requests\n",
    "from PIL import Image\n",
    "from transformers import AutoTokenizer, ViTImageProcessor, VisionEncoderDecoderModel\n",
    "from transformers import pipeline\n"
   ]
  },
  {
   "cell_type": "code",
   "execution_count": 3,
   "metadata": {},
   "outputs": [],
   "source": [
    "# 各種モデルの読み込み\n",
    "# model = VisionEncoderDecoderModel.from_pretrained(\"./models/vit-gpt2-japanese-image-captioning_stair-captions/checkpoint-613500/\")\n",
    "# model = VisionEncoderDecoderModel.from_pretrained(\"./models/vit-gpt2-japanese-image-captioning_stair-captions-result\")\n",
    "model = VisionEncoderDecoderModel.from_pretrained(\"fujie/fujie_vit-gpt2-japanese-image-captioning_stair-captions-result\")\n",
    "tokenizer = AutoTokenizer.from_pretrained(\"rinna/japanese-gpt2-medium\", use_fast=False)\n",
    "tokenizer.do_lower_case = True  # due to some bug of tokenizer config loading\n",
    "image_processor = ViTImageProcessor.from_pretrained(\"google/vit-base-patch16-224-in21k\")"
   ]
  },
  {
   "cell_type": "code",
   "execution_count": 4,
   "metadata": {},
   "outputs": [
    {
     "name": "stdout",
     "output_type": "stream",
     "text": [
      "ピンクの布の上に二匹の猫がいる\n",
      "ピンクの布の上に二匹の猫が寝ている\n",
      "2匹の猫がピンクのクッションの上でじゃれている\n",
      "2匹の猫がピンクのクッションで遊んでいる\n",
      "ピンクの布の上に二匹の猫が寝転んでいる\n"
     ]
    }
   ],
   "source": [
    "# let's perform inference on an image\n",
    "url = \"http://images.cocodataset.org/val2017/000000039769.jpg\"\n",
    "\n",
    "image = Image.open(requests.get(url, stream=True).raw)\n",
    "pixel_values = image_processor(image, return_tensors=\"pt\").pixel_values\n",
    "\n",
    "# autoregressively generate caption (uses greedy decoding by default)\n",
    "generated_ids = model.generate(pixel_values,\n",
    "                               max_new_tokens=30, \n",
    "                               num_beams=5,\n",
    "                               early_stopping=True,\n",
    "                               do_sample=True,\n",
    "                               temperature=1.2,\n",
    "                               top_k=50,\n",
    "                               top_p=0.95, \n",
    "                               no_repeat_ngram_size=3,\n",
    "                               num_return_sequences=5)\n",
    "generated_texts = tokenizer.batch_decode(generated_ids, skip_special_tokens=True)\n",
    "for text in generated_texts:\n",
    "    print(text)"
   ]
  },
  {
   "cell_type": "code",
   "execution_count": 5,
   "metadata": {},
   "outputs": [],
   "source": [
    "# model.save_pretrained(\"./models/vit-gpt2-japanese-image-captioning_stair-captions-result/\")"
   ]
  },
  {
   "cell_type": "code",
   "execution_count": 6,
   "metadata": {},
   "outputs": [],
   "source": [
    "pl = pipeline(\"image-to-text\",\n",
    "             model=model,\n",
    "             tokenizer=tokenizer,\n",
    "             feature_extractor=image_processor,)"
   ]
  },
  {
   "cell_type": "code",
   "execution_count": 7,
   "metadata": {},
   "outputs": [
    {
     "name": "stderr",
     "output_type": "stream",
     "text": [
      "/home/fujie/.conda/envs/py311/lib/python3.11/site-packages/transformers/generation/utils.py:1168: UserWarning: Using the model-agnostic default `max_length` (=20) to control the generation length. We recommend setting `max_new_tokens` to control the maximum length of the generation.\n",
      "  warnings.warn(\n"
     ]
    },
    {
     "data": {
      "text/plain": [
       "[{'generated_text': 'ピンクの布の上に二匹の猫がいる'}]"
      ]
     },
     "execution_count": 7,
     "metadata": {},
     "output_type": "execute_result"
    }
   ],
   "source": [
    "pl(url)"
   ]
  },
  {
   "cell_type": "code",
   "execution_count": 8,
   "metadata": {},
   "outputs": [],
   "source": [
    "pl.save_pretrained(\"./models/vit-gpt2-japanese-image-captioning_stair-captions-result-pipeline/\")"
   ]
  },
  {
   "cell_type": "code",
   "execution_count": 8,
   "metadata": {},
   "outputs": [],
   "source": [
    "# pl(\"./photos/006.jpg\")"
   ]
  }
 ],
 "metadata": {
  "kernelspec": {
   "display_name": "py39",
   "language": "python",
   "name": "python3"
  },
  "language_info": {
   "codemirror_mode": {
    "name": "ipython",
    "version": 3
   },
   "file_extension": ".py",
   "mimetype": "text/x-python",
   "name": "python",
   "nbconvert_exporter": "python",
   "pygments_lexer": "ipython3",
   "version": "3.11.9"
  },
  "orig_nbformat": 4
 },
 "nbformat": 4,
 "nbformat_minor": 2
}
