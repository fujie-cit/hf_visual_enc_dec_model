{
 "cells": [
  {
   "cell_type": "code",
   "execution_count": null,
   "metadata": {},
   "outputs": [],
   "source": [
    "from transformers import ViTImageProcessor, AutoTokenizer\n",
    "from PIL import Image\n",
    "import datasets\n",
    "import os\n",
    "import json\n",
    "import torch"
   ]
  },
  {
   "cell_type": "code",
   "execution_count": null,
   "metadata": {},
   "outputs": [],
   "source": [
    "image_processor = ViTImageProcessor.from_pretrained(\"google/vit-base-patch16-224-in21k\")\n",
    "tokenizer = AutoTokenizer.from_pretrained(\"rinna/japanese-gpt2-medium\", use_fast=False)\n",
    "tokenizer.do_lower_case = True  # due to some bug of tokenizer config loading"
   ]
  },
  {
   "cell_type": "code",
   "execution_count": null,
   "metadata": {},
   "outputs": [],
   "source": [
    "STAIR_CAPTIONS_DIR = \"/autofs/diamond2/share/corpus/STAIR-captions\"\n",
    "STAIR_CAPTIONS_TRAIN_JSON_PATH = os.path.join(STAIR_CAPTIONS_DIR, \"stair_captions_v1.2_train.json\")\n",
    "STAIR_CAPTIONS_VAL_JSON_PATH = os.path.join(STAIR_CAPTIONS_DIR, \"stair_captions_v1.2_val.json\")\n",
    "\n",
    "COCO_DIR = \"/autofs/diamond2/share/corpus/MS-COCO\"\n",
    "COCO_TRAIN2014_DIR = os.path.join(COCO_DIR, \"train2014\")\n",
    "COCO_VAL2014_DIR = os.path.join(COCO_DIR, \"val2014\")"
   ]
  },
  {
   "cell_type": "code",
   "execution_count": null,
   "metadata": {},
   "outputs": [],
   "source": [
    "train_json = json.load(open(STAIR_CAPTIONS_TRAIN_JSON_PATH))\n",
    "val_json = json.load(open(STAIR_CAPTIONS_VAL_JSON_PATH))"
   ]
  },
  {
   "cell_type": "code",
   "execution_count": null,
   "metadata": {},
   "outputs": [],
   "source": [
    "# train_json[\"annotations\"][0]"
   ]
  },
  {
   "cell_type": "code",
   "execution_count": null,
   "metadata": {},
   "outputs": [],
   "source": [
    "# train_json[\"images\"][0]"
   ]
  },
  {
   "cell_type": "code",
   "execution_count": null,
   "metadata": {},
   "outputs": [],
   "source": [
    "def convert_stair_caption_json_to_datalist(json, coco_image_dir):\n",
    "    image_id2image_info = {image_info[\"id\"]: image_info for image_info in json[\"images\"]}\n",
    "\n",
    "    datalist = []    \n",
    "    for data in json[\"annotations\"]:\n",
    "        image_id = data[\"image_id\"]\n",
    "        image_info = image_id2image_info[image_id]\n",
    "        image_path = os.path.join(coco_image_dir, image_info[\"file_name\"])\n",
    "\n",
    "        datalist.append({\n",
    "            'id': data[\"id\"],\n",
    "            'caption': data[\"caption\"],\n",
    "            'image_path': image_path,\n",
    "            'height': image_info[\"height\"],\n",
    "            'width': image_info[\"width\"],\n",
    "        })\n",
    "    return datalist"
   ]
  },
  {
   "cell_type": "code",
   "execution_count": null,
   "metadata": {},
   "outputs": [],
   "source": [
    "datalist_train = convert_stair_caption_json_to_datalist(train_json, COCO_TRAIN2014_DIR)\n",
    "datalist_val = convert_stair_caption_json_to_datalist(val_json, COCO_VAL2014_DIR)"
   ]
  },
  {
   "cell_type": "code",
   "execution_count": null,
   "metadata": {},
   "outputs": [],
   "source": [
    "dataset_dict = datasets.DatasetDict()\n",
    "dataset_dict[\"train\"] = datasets.Dataset.from_list(datalist_train)\n",
    "dataset_dict[\"val\"] = datasets.Dataset.from_list(datalist_val)"
   ]
  },
  {
   "cell_type": "code",
   "execution_count": null,
   "metadata": {},
   "outputs": [],
   "source": [
    "dataset_dict.save_to_disk(\"./stair_captions_dataset\")"
   ]
  },
  {
   "cell_type": "code",
   "execution_count": null,
   "metadata": {},
   "outputs": [],
   "source": [
    "def convert_to_features(example_batch):\n",
    "    inputs = tokenizer(\n",
    "        example_batch[\"caption\"],\n",
    "        padding=\"max_length\",\n",
    "        truncation=True,\n",
    "        max_length=128,\n",
    "        return_tensors=\"pt\",\n",
    "    )\n",
    "    images = []\n",
    "    for image_path in example_batch[\"image_path\"]:\n",
    "        assert os.path.exists(image_path), f\"image_path={image_path} is not found.\"\n",
    "        images.append(Image.open(image_path).convert(\"RGB\"))\n",
    "    inputs[\"pixel_values\"] = image_processor(images=images, return_tensors=\"pt\").pixel_values\n",
    "    return inputs"
   ]
  },
  {
   "cell_type": "code",
   "execution_count": null,
   "metadata": {},
   "outputs": [],
   "source": [
    "dataset_dict.set_transform(convert_to_features)"
   ]
  },
  {
   "cell_type": "code",
   "execution_count": null,
   "metadata": {},
   "outputs": [],
   "source": [
    "dataset_dict[\"train\"][1]"
   ]
  }
 ],
 "metadata": {
  "kernelspec": {
   "display_name": "py39",
   "language": "python",
   "name": "python3"
  },
  "language_info": {
   "codemirror_mode": {
    "name": "ipython",
    "version": 3
   },
   "file_extension": ".py",
   "mimetype": "text/x-python",
   "name": "python",
   "nbconvert_exporter": "python",
   "pygments_lexer": "ipython3",
   "version": "3.9.17"
  },
  "orig_nbformat": 4
 },
 "nbformat": 4,
 "nbformat_minor": 2
}
