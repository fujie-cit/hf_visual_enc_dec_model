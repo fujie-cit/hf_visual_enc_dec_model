{
 "cells": [
  {
   "cell_type": "markdown",
   "metadata": {},
   "source": [
    "STAIR Captions を利用するためのデータセットを，```./stair_captions_dataset/```に作成する．"
   ]
  },
  {
   "cell_type": "code",
   "execution_count": null,
   "metadata": {},
   "outputs": [],
   "source": [
    "from transformers import ViTImageProcessor, AutoTokenizer\n",
    "from PIL import Image\n",
    "import datasets\n",
    "import os\n",
    "import json"
   ]
  },
  {
   "cell_type": "code",
   "execution_count": null,
   "metadata": {},
   "outputs": [],
   "source": [
    "# STAIR Captions のパスなど\n",
    "STAIR_CAPTIONS_DIR = \"/autofs/diamond2/share/corpus/STAIR-captions\"\n",
    "STAIR_CAPTIONS_TRAIN_JSON_PATH = os.path.join(STAIR_CAPTIONS_DIR, \"stair_captions_v1.2_train.json\")\n",
    "STAIR_CAPTIONS_VAL_JSON_PATH = os.path.join(STAIR_CAPTIONS_DIR, \"stair_captions_v1.2_val.json\")\n",
    "\n",
    "# STAIR Captions が使う画像データがあるディレクトリのパスなど\n",
    "COCO_DIR = \"/autofs/diamond2/share/corpus/MS-COCO\"\n",
    "COCO_TRAIN2014_DIR = os.path.join(COCO_DIR, \"train2014\")\n",
    "COCO_VAL2014_DIR = os.path.join(COCO_DIR, \"val2014\")"
   ]
  },
  {
   "cell_type": "code",
   "execution_count": null,
   "metadata": {},
   "outputs": [],
   "source": [
    "# START Captions の読み込み\n",
    "train_json = json.load(open(STAIR_CAPTIONS_TRAIN_JSON_PATH))\n",
    "val_json = json.load(open(STAIR_CAPTIONS_VAL_JSON_PATH))"
   ]
  },
  {
   "cell_type": "code",
   "execution_count": null,
   "metadata": {},
   "outputs": [],
   "source": [
    "# STAIR Captions のデータから，データセットに必要な情報に変換する関数\n",
    "def convert_stair_caption_json_to_datalist(json, coco_image_dir):\n",
    "    image_id2image_info = {image_info[\"id\"]: image_info for image_info in json[\"images\"]}\n",
    "\n",
    "    datalist = []    \n",
    "    for data in json[\"annotations\"]:\n",
    "        image_id = data[\"image_id\"]\n",
    "        image_info = image_id2image_info[image_id]\n",
    "        image_path = os.path.join(coco_image_dir, image_info[\"file_name\"])\n",
    "\n",
    "        datalist.append({\n",
    "            'id': data[\"id\"],\n",
    "            'caption': data[\"caption\"],\n",
    "            'image_path': image_path,\n",
    "            'height': image_info[\"height\"],\n",
    "            'width': image_info[\"width\"],\n",
    "        })\n",
    "    return datalist"
   ]
  },
  {
   "cell_type": "code",
   "execution_count": null,
   "metadata": {},
   "outputs": [],
   "source": [
    "# STAIR Captions のデータをデータセットに変換\n",
    "datalist_train = convert_stair_caption_json_to_datalist(train_json, COCO_TRAIN2014_DIR)\n",
    "datalist_val = convert_stair_caption_json_to_datalist(val_json, COCO_VAL2014_DIR)"
   ]
  },
  {
   "cell_type": "code",
   "execution_count": null,
   "metadata": {},
   "outputs": [],
   "source": [
    "# データセット形式に変換して保存する\n",
    "dataset_dict = datasets.DatasetDict()\n",
    "dataset_dict[\"train\"] = datasets.Dataset.from_list(datalist_train)\n",
    "dataset_dict[\"val\"] = datasets.Dataset.from_list(datalist_val)\n",
    "\n",
    "dataset_dict.save_to_disk(\"./stair_captions_dataset\")"
   ]
  }
 ],
 "metadata": {
  "kernelspec": {
   "display_name": "py39",
   "language": "python",
   "name": "python3"
  },
  "language_info": {
   "codemirror_mode": {
    "name": "ipython",
    "version": 3
   },
   "file_extension": ".py",
   "mimetype": "text/x-python",
   "name": "python",
   "nbconvert_exporter": "python",
   "pygments_lexer": "ipython3",
   "version": "3.9.17"
  },
  "orig_nbformat": 4
 },
 "nbformat": 4,
 "nbformat_minor": 2
}
